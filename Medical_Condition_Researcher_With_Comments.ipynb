{
 "cells": [
  {
   "cell_type": "markdown",
   "id": "dac5376b",
   "metadata": {},
   "source": [
    "Low health literacy is a public health issue in the United States as many people do not have access to accurate medical information, or the information they do have access to is not understandable. This program allows users to find free and accurate information about medical conditions they may want to learn about and is available in both English and Spanish."
   ]
  },
  {
   "cell_type": "code",
   "execution_count": 1,
   "id": "93d20e00",
   "metadata": {},
   "outputs": [],
   "source": [
    "#Importing libraries\n",
    "\n",
    "#Adding a library to open website links\n",
    "import webbrowser\n",
    "#Adding a library to allow the program to exit when the user is done\n",
    "import sys"
   ]
  },
  {
   "cell_type": "code",
   "execution_count": 2,
   "id": "b0c35b9e",
   "metadata": {},
   "outputs": [],
   "source": [
    "#Defining functions for repeatedly used commands\n",
    "\n",
    "#Creating a function to clean the condition variable to work properly with the website\n",
    "#Removing any extra spaces, making the variable lowercase, and removing spaces or hyphens to work with the URL's format\n",
    "def clean_condition(condition):\n",
    "    return condition.strip().lower().replace(\" \", \"\").replace(\"-\", \"\")\n",
    "\n",
    "#Creating a function to open the URL of the condition in a new tab\n",
    "def open_URL(URL):\n",
    "    return webbrowser.open_new_tab(URL)\n",
    "\n",
    "#Creating a function to clean the finished variable by removing spaces and making it lowercase\n",
    "def clean_finished(finished):\n",
    "    return finished.strip().lower()"
   ]
  },
  {
   "cell_type": "code",
   "execution_count": null,
   "id": "017424ed",
   "metadata": {
    "scrolled": true
   },
   "outputs": [],
   "source": [
    "#Writing the language, condition, and exit options of the program\n",
    "\n",
    "while True:\n",
    "#Creating a loop so that if the user enters something unrecognized, they are asked to restart\n",
    "\n",
    "    #Asking the user which language they speak to give them results in the corresponding language\n",
    "    language = input(\"Do you speak English? or ¿Habla Español? \")\n",
    "\n",
    "    #Cleaning up the language variable so inputs are uniform and do not interfere with the program's ability to run\n",
    "    #Removing any extra spaces and making the variable lowercase\n",
    "    language = language.strip().lower()\n",
    "        \n",
    "    if language == \"english\":\n",
    "    #Section for if the user enters English\n",
    "    \n",
    "        while True:\n",
    "        #Creating another loop to allow the user to search for multiple conditions until they want to exit\n",
    "        \n",
    "            #Asking the user in English what condition they want information about\n",
    "            condition = input(\"What condition would you like to learn about? \")\n",
    "            \n",
    "            #Running the clean condition function\n",
    "            condition = clean_condition(condition)\n",
    "\n",
    "            #Website URL for users that speak English\n",
    "            #Using an f-string to update the URL based on the condition the user enters\n",
    "            URL = f\"https://medlineplus.gov/{condition}.html\"\n",
    "\n",
    "            #Printing a message in English for the user confirming that their input was taken\n",
    "            print(\"Finding condition information\")\n",
    "            \n",
    "            #Running the open URL function\n",
    "            open_URL(URL)\n",
    "        \n",
    "            #Asking the user in English if they want to exit or search for another condition\n",
    "            finished = input(\"Would you like to search for another condition? \")\n",
    "            \n",
    "            #Running the clean finished function\n",
    "            finished = clean_finished(finished)\n",
    "            \n",
    "            #If the user enters yes in English, they will be asked to enter another condition\n",
    "            if finished == \"yes\":\n",
    "                continue\n",
    "            \n",
    "            #If the user does not enter yes in English, the program will say goodbye and exit\n",
    "            else:\n",
    "                print(\"Goodbye\")\n",
    "                sys.exit()\n",
    "        \n",
    "    elif language == \"español\" or language == \"espanol\":\n",
    "    #Section for if the user enters Español\n",
    "    #Users may not include the tilde on ñ, so n is also accepted\n",
    "\n",
    "        while True:\n",
    "        #Creating another loop to allow the user to search for multiple conditions until they want to exit\n",
    "    \n",
    "            #Asking the user in Spanish what condition they want information about\n",
    "            condition = input(\"¿Sobre qué condición le gustaría aprender? \")\n",
    "        \n",
    "            #Running clean condition function\n",
    "            condition = clean_condition(condition)\n",
    "\n",
    "            #Website URL for users that speak Spanish - note the different URL\n",
    "            #Again, using an f-string to update the URL based on entered condition\n",
    "            URL = f\"https://medlineplus.gov/spanish/{condition}.html\"\n",
    "\n",
    "            #Printing a message in Spanish for the user confirming that their input was taken\n",
    "            print(\"Encontrando información de condición\")\n",
    "            \n",
    "            #Running the open URL function\n",
    "            open_URL(URL)\n",
    "\n",
    "            #Asking the user in Spanish if they want to exit or search for another condition\n",
    "            finished = input(\"¿Le gustaría buscar otra condición? \")\n",
    "            \n",
    "            #Running the clean finished function\n",
    "            finished = clean_finished(finished)\n",
    "            \n",
    "            #If the user enters yes in Spanish, they will be asked to enter another condition\n",
    "            if finished == \"sí\" or finished == \"si\":\n",
    "            #Users may not include the accent on í, so i is also accepted\n",
    "                continue\n",
    "            \n",
    "            #If the user does not enter yes in Spanish, the program will say goodbye in Spanish and exit\n",
    "            else:\n",
    "                print(\"Adiós\")\n",
    "                sys.exit()\n",
    "        \n",
    "    else:\n",
    "    #If the user does not enter a supported langauge, the loop will reset, and they will be brought to the first question again\n",
    "        print(\"Sorry, unrecognized input please try again.\")"
   ]
  },
  {
   "cell_type": "markdown",
   "id": "b2dcbc13",
   "metadata": {},
   "source": [
    "To learn more go to https://medlineplus.gov/\n",
    "\n",
    "Translations provided by https://www.spanishdict.com/"
   ]
  },
  {
   "cell_type": "markdown",
   "id": "25d066d9",
   "metadata": {},
   "source": [
    "Note: While the Spanish language has different spellings for medical conditions, MedlinePlus uses the English spellings in its URLs. Users will have to enter conditions with English spellings to get a valid link."
   ]
  }
 ],
 "metadata": {
  "kernelspec": {
   "display_name": "Python 3 (ipykernel)",
   "language": "python",
   "name": "python3"
  },
  "language_info": {
   "codemirror_mode": {
    "name": "ipython",
    "version": 3
   },
   "file_extension": ".py",
   "mimetype": "text/x-python",
   "name": "python",
   "nbconvert_exporter": "python",
   "pygments_lexer": "ipython3",
   "version": "3.10.9"
  }
 },
 "nbformat": 4,
 "nbformat_minor": 5
}
